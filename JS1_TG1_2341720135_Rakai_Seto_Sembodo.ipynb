{
  "nbformat": 4,
  "nbformat_minor": 0,
  "metadata": {
    "colab": {
      "provenance": [],
      "mount_file_id": "1GrPRNNHw1npgMu_uOBUUN9yvdKPAq1AJ",
      "authorship_tag": "ABX9TyOP8ZGtZbg/ZRChyM2qnqYX",
      "include_colab_link": true
    },
    "kernelspec": {
      "name": "python3",
      "display_name": "Python 3"
    },
    "language_info": {
      "name": "python"
    }
  },
  "cells": [
    {
      "cell_type": "markdown",
      "metadata": {
        "id": "view-in-github",
        "colab_type": "text"
      },
      "source": [
        "<a href=\"https://colab.research.google.com/github/RakaiSeto/21_TI-3G-ML/blob/main/JS1_TG1_2341720135_Rakai_Seto_Sembodo.ipynb\" target=\"_parent\"><img src=\"https://colab.research.google.com/assets/colab-badge.svg\" alt=\"Open In Colab\"/></a>"
      ]
    },
    {
      "cell_type": "markdown",
      "source": [
        "# Bagian 1"
      ],
      "metadata": {
        "id": "3-wBL9s4LKD2"
      }
    },
    {
      "cell_type": "code",
      "execution_count": null,
      "metadata": {
        "id": "vhpqR0nELA-d"
      },
      "outputs": [],
      "source": [
        "!pip install PyPREP\n",
        "!pip install Scipy\n",
        "!pip install wandb\n",
        "!pip install pyECG"
      ]
    },
    {
      "cell_type": "markdown",
      "source": [
        "1. PyPREP\n",
        "Kegunaan: PyPREP adalah sebuah library yang digunakan untuk pra-pemrosesan data EEG (Electroencephalography) secara otomatis. Nama \"PREP\" sendiri adalah singkatan dari Pipeline for Reviewing EEG Preprocessing.\n",
        "\n",
        "2. Scipy\n",
        "Kegunaan: Scipy adalah library fundamental dalam ekosistem Python untuk komputasi ilmiah dan teknis. Library ini dibangun di atas NumPy dan menyediakan berbagai modul yang lebih canggih seperti Matematika dan Aljabar Linier, Statistik, Pemrosesan Sinyal, Optimasi dan Integrasi Numerik, Pemrosesan Gambar dan Spasial\n",
        "\n",
        "3. wandb (Weights & Biases)\n",
        "Kegunaan: wandb adalah platform dan library untuk melacak, memvisualisasikan, dan mengelola eksperimen machine learning dan deep learning. wandb dapat dengan mudah diintegrasikan dengan framework machine learning populer seperti PyTorch, TensorFlow, Keras, dan scikit-learn.\n",
        "\n",
        "4. pyECG\n",
        "Kegunaan: pyECG adalah library khusus yang dirancang untuk menganalisis data EKG (Electrocardiography). Library ini berfokus pada pemrosesan sinyal EKG, termasuk deteksi puncak R, segmentasi siklus detak jantung, dan analisis variabilitas detak jantung (HRV). Namun pada instalasi, pyECG mengalami masalah dikarenakan ada dependency yang deprecated"
      ],
      "metadata": {
        "id": "eQLm9yMGQzPN"
      }
    },
    {
      "cell_type": "markdown",
      "source": [
        "# Bagian 2"
      ],
      "metadata": {
        "id": "OD_Ux2xORtLz"
      }
    },
    {
      "cell_type": "markdown",
      "source": [
        "**Berikan contoh tentang tidakan melanggar etika dan hukum tentang penggunaan kecerdasan buatan. Sertakan referensi yang digunakan.**\n",
        "\n",
        "Contoh tindakan melanggar etika dan hukum adalah menyalahgunakan *deepfake*, seperti yang dilakukan untuk memalsukan video yang menyerupai gubernur Jatim, Khofifah Indar Parawangsa. Perbuatan tersebut melanggar hukum di Indonesia, yaitu Pasal 35 Jo Pasal 51 ayat (1) UU RI No. 19 Tahun 2016 tentang Informasi dan Transaksi Elektronik (ITE).\n",
        "\n",
        "Perbuatan tersebut juga melanggar beberapa etika AI, diantaranya Kemanusiaan, Keamanan, Kredibilitas dan Akuntabilitas, dan Kekayaan Intelektual\n",
        "\n",
        "---\n",
        "\n",
        "Referensi\n",
        "[berita](https://tribratanews.sulut.polri.go.id/polda-jatim-amankan-tiga-tersangka-pembuat-dan-penyebar-video-hoax-catut-nama-gubernur/) dan [etika AI](https://jdih.komdigi.go.id/produk_hukum/view/id/883/t/surat+edaran+menteri+komunikasi+dan+informatika+nomor+9+tahun+2023)\n",
        "\n"
      ],
      "metadata": {
        "id": "p1qZbSKeRzQD"
      }
    },
    {
      "cell_type": "markdown",
      "source": [
        "**Berikan contoh tentang dampak energi dan lingkungan terhadap pemanfaatan kecerdasan buatan dan bagaimana cara mengatasinya (Anda dapat memberikan pendapat pribadi). Sertakan referensi yang digunakan.**\n",
        "\n",
        "Disini saya akan mengangkat isu mengenai penggunaan energi pada Large Language Model (LLM). Menurut artikel yang ditulis oleh [MIT Tech Review](https://www.technologyreview.com/2025/05/20/1116327/ai-energy-usage-climate-footprint-big-tech/), jenis respon dan jumlah parameter pada model berpengaruh besar pada jumlah energi yang digunakan.\n",
        "\n",
        "Sebagai contoh, Llama 3.1 8B yang mempunyai 8 Miliar parameter diestimasikan menggunakan sekitar [114 joule energi](https://www.technologyreview.com/2025/05/20/1116327/ai-energy-usage-climate-footprint-big-tech/#:~:text=The%20smallest%20model,of%20a%20second.). Sementara model seperti Llama 3.1 405B yang mempunyai 50 kali lebih banyak parameter diestimasikan menggunakan sekitar [6,706 joule energi](https://www.technologyreview.com/2025/05/20/1116327/ai-energy-usage-climate-footprint-big-tech/#:~:text=The%20largest%20of,for%20eight%20seconds.), cukup untuk menjalankan sebuah microwave selama 8 detik. Model GPT-4 dari OpenAI sendiri diestimasikan mempunyai sekitar 1 triliun parameter. Untuk penggunaan model *video generator*, penggunaan energi menjadi jauh lebih tinggi lagi. Dites menggunakan tool bernama Code Carbon, diketahui bahwa sebuah model yang menghasilkan video berdurasi 5 detik dengan 16 frame per detik menggunakan sekitar [3.4 juta joule energi](https://www.technologyreview.com/2025/05/20/1116327/ai-energy-usage-climate-footprint-big-tech/#:~:text=An%20older%20version,over%20an%20hour.), cukup untuk menjalankan sebuah microwave selama lebih dari 1 jam.\n",
        "\n",
        "Solusi yang menurut saya menarik adalah Green Data Center. Seperti yang dilaporkan oleh [Google](https://datacenters.google/operating-sustainably/). Dengan menggunakan parameter PUE (Power Usage Efficiency), Google melaporkan bahwa data center mereka mencapai nilai PUE rata2 1.09 dibandingkan dengan rata-rata industri di angka 1.56. Google dapat mencapai angka ini dengan menggunakan langkah-langkah seperti mengoptimalkan penggunaan air dan menggunakan air dari sumber-sumber resiko rendah seperti air limbah. Selain itu Google juga menggunakan energi terbarukan seperti turbin angin dan geothermal untuk menjalankan data center mereka. Tentunya hal ini bisa membantu mengefisiensikan penggunaan energi pada data center dan juga penggunaan energi LLM yang berada di data center tersebut."
      ],
      "metadata": {
        "id": "PvyIa_RgUK_h"
      }
    }
  ]
}